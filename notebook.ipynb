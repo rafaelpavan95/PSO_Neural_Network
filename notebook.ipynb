{
 "cells": [
  {
   "cell_type": "markdown",
   "metadata": {},
   "source": [
    "# Particle Swarm Optimization Based FeedForward Neural Network\n",
    "\n",
    "Evolutionary Computing is an Artificial Intelligence field that focus in algorithms inspired by nature. Such algorithms are used in complex artificial intelligence and optimization problems that cannot be efficiently solved by tradicional mathematical programming methods. In this project, we will create a feedforward neural network that will use the particle swarm optimization algorithm as its optimizer. In order to demonstrate the functionality, the algorithm will be applied in a simple classification problem: Iris (https://archive.ics.uci.edu/ml/datasets/iris)\n"
   ]
  },
  {
   "cell_type": "markdown",
   "metadata": {},
   "source": [
    "## Iris Dataset\n",
    "\n",
    "This is perhaps the best known database to be found in the pattern recognition literature. Fisher's paper is a classic in the field and is referenced frequently to this day. (See Duda & Hart, for example.) The data set contains 3 classes of 50 instances each, where each class refers to a type of iris plant. One class is linearly separable from the other 2; the latter are NOT linearly separable from each other.\n",
    "\n",
    "### Attribute Information:\n",
    "\n",
    "- sepal length in cm\n",
    "- sepal width in cm\n",
    "- petal length in cm\n",
    "- petal width in cm\n",
    "- class:\n",
    "    - Iris Setosa\n",
    "    - Iris Versicolour\n",
    "    - Iris Virginica\n"
   ]
  },
  {
   "cell_type": "markdown",
   "metadata": {},
   "source": [
    "## 1. Importing Library and Data"
   ]
  },
  {
   "cell_type": "code",
   "execution_count": 1,
   "metadata": {},
   "outputs": [],
   "source": [
    "import numpy as numpy\n",
    "import matplotlib.pyplot as plt\n",
    "from sklearn.datasets import load_iris\n",
    "\n",
    "\n",
    "data = load_iris()\n",
    "\n",
    "X = data.data\n",
    "y = data.target"
   ]
  },
  {
   "cell_type": "markdown",
   "metadata": {},
   "source": [
    "## 2. Feature Engineering\n",
    "\n",
    "To improve the Neural Network performance, let's normalize the data between 0-1, using MinMaxScaler."
   ]
  },
  {
   "cell_type": "code",
   "execution_count": 2,
   "metadata": {},
   "outputs": [],
   "source": [
    "from sklearn.preprocessing import MinMaxScaler\n",
    "from sklearn.model_selection import train_test_split\n",
    "from sklearn.metrics import classification_report\n",
    "\n",
    "X_train, X_test, y_train, y_test = train_test_split(X, y, test_size=0.2, stratify=y)\n",
    "\n",
    "scaler = MinMaxScaler()\n",
    "\n",
    "X_train = scaler.fit_transform(X_train)\n",
    "X_test = scaler.transform(X_test)"
   ]
  },
  {
   "cell_type": "markdown",
   "metadata": {},
   "source": [
    "## 3. FeedForward Neural Network and Particle Swarm Optimization\n",
    "\n",
    "The feedforward neural network developed can be found in the **neural.py** file. It consists of:\n",
    "\n",
    "- Input Layer\n",
    "- Hidden Layer 1 (Tanh Activation Function)\n",
    "- Dropout Layer (If Necessary)\n",
    "- Hidden Layer 2 (Tanh Activation Function)\n",
    "- Output Layer (Softmax Activation Function)\n",
    "- Negative Log-Likelihood Loss Function\n",
    "- Regularization (L1)\n",
    "\n",
    "\n",
    "The Particle Swarm Optimization Algorithm simulates the flocks of birds behavior in nature. Each vector is a particle (bird) and contains all the neural network weights and biases. All values are initialized randomly in a Normal Gaussian Distribution (mean = 0, [-1,1]). This particles fly around the optimization hyperspace using information of other particles and its own experience (cognitive and social components). It consists of:\n",
    "\n",
    "- Linearly Decreasing Inertia Weight (Controls the exploration and exploitation)\n",
    "- C1 (Social Component Constant)\n",
    "- C2 (Cognitive Component Constant)\n",
    "- WMAX and WMIN (Maximum and Minimum Value of Inertia Weight)\n",
    "\n",
    "All particles are evaluated according to the fitness function, that is:\n",
    "\n",
    "$Fitness = Loss + \\frac{1}{\\theta} \\frac{\\sum{|w|}}{n}$\n",
    "\n",
    "$w$ - neural newtork weights\n",
    "\n",
    "$\\theta$ - regularization strenght factor\n",
    "\n",
    "$n$ - number of weights\n",
    "\n",
    "The code can be found in the file: **particle_swarm_optimization.py**\n",
    "\n",
    "\n",
    "#### References and Further Explanations: Computational Intelligence: An Introduction - Autor: Andries P. Engelbrecht"
   ]
  },
  {
   "cell_type": "code",
   "execution_count": 3,
   "metadata": {},
   "outputs": [
    {
     "name": "stdout",
     "output_type": "stream",
     "text": [
      "FeedForward Neural Network developed by Rafael Pavan \n",
      "\n",
      "Architecture: \n",
      "\n",
      "- 2 Hidden Layers; \n",
      "\n",
      "- Hidden Layer 1: 24 neurons, activation function: tanh; \n",
      "\n",
      "- Hidden Layer 2: 12 neurons, activation function: tanh; \n",
      "\n",
      "- Output: 3 neurons, activation function: softmax; \n",
      "\n",
      "- Loss Function:  Negative Log-Likelihood Loss; \n",
      "\n",
      "- Dropout Probability: 0 \n",
      "\n",
      "- Regularization: L1, 5000.0 \n",
      "\n",
      "\n",
      "----------\n",
      "Iteration 25\n",
      "Train Fitness (Loss+Regularization): 0.4749910807601874\n",
      "Test Fitness (Loss+Regularization): 0.5751019216681033\n",
      "Train Accuracy: 86.66666666666667\n",
      "Test Accuracy: 73.33333333333333\n",
      "\n",
      "----------\n",
      "Iteration 50\n",
      "Train Fitness (Loss+Regularization): 0.39269723606057716\n",
      "Test Fitness (Loss+Regularization): 0.4176513441237081\n",
      "Train Accuracy: 90.83333333333333\n",
      "Test Accuracy: 83.33333333333334\n",
      "\n",
      "----------\n",
      "Iteration 75\n",
      "Train Fitness (Loss+Regularization): 0.3883740179409617\n",
      "Test Fitness (Loss+Regularization): 0.37580228135681676\n",
      "Train Accuracy: 94.16666666666667\n",
      "Test Accuracy: 90.0\n",
      "\n",
      "----------\n",
      "Iteration 100\n",
      "Train Fitness (Loss+Regularization): 0.3649668286778629\n",
      "Test Fitness (Loss+Regularization): 0.374494587714251\n",
      "Train Accuracy: 92.5\n",
      "Test Accuracy: 90.0\n",
      "\n",
      "----------\n",
      "Iteration 125\n",
      "Train Fitness (Loss+Regularization): 0.3649668286778629\n",
      "Test Fitness (Loss+Regularization): 0.374494587714251\n",
      "Train Accuracy: 92.5\n",
      "Test Accuracy: 90.0\n",
      "\n",
      "----------\n",
      "Iteration 150\n",
      "Train Fitness (Loss+Regularization): 0.3649668286778629\n",
      "Test Fitness (Loss+Regularization): 0.374494587714251\n",
      "Train Accuracy: 92.5\n",
      "Test Accuracy: 90.0\n",
      "\n",
      "----------\n",
      "Iteration 175\n",
      "Train Fitness (Loss+Regularization): 0.3629451255694385\n",
      "Test Fitness (Loss+Regularization): 0.4208104008357664\n",
      "Train Accuracy: 92.5\n",
      "Test Accuracy: 90.0\n",
      "\n",
      "----------\n",
      "Iteration 200\n",
      "Train Fitness (Loss+Regularization): 0.3625657931821213\n",
      "Test Fitness (Loss+Regularization): 0.40954175403077087\n",
      "Train Accuracy: 92.5\n",
      "Test Accuracy: 90.0\n",
      "\n",
      "----------\n",
      "Iteration 225\n",
      "Train Fitness (Loss+Regularization): 0.3625657931821213\n",
      "Test Fitness (Loss+Regularization): 0.40954175403077087\n",
      "Train Accuracy: 92.5\n",
      "Test Accuracy: 90.0\n",
      "\n",
      "----------\n",
      "Iteration 250\n",
      "Train Fitness (Loss+Regularization): 0.3386553953926973\n",
      "Test Fitness (Loss+Regularization): 0.3431355806140252\n",
      "Train Accuracy: 93.33333333333333\n",
      "Test Accuracy: 93.33333333333333\n",
      "\n",
      "----------\n",
      "Iteration 275\n",
      "Train Fitness (Loss+Regularization): 0.3384339625136945\n",
      "Test Fitness (Loss+Regularization): 0.35110264589357815\n",
      "Train Accuracy: 93.33333333333333\n",
      "Test Accuracy: 93.33333333333333\n",
      "\n",
      "----------\n",
      "Iteration 300\n",
      "Train Fitness (Loss+Regularization): 0.33836572652678787\n",
      "Test Fitness (Loss+Regularization): 0.3510652484362745\n",
      "Train Accuracy: 93.33333333333333\n",
      "Test Accuracy: 93.33333333333333\n",
      "\n",
      "----------\n",
      "Iteration 325\n",
      "Train Fitness (Loss+Regularization): 0.3383657247060659\n",
      "Test Fitness (Loss+Regularization): 0.35106489592755413\n",
      "Train Accuracy: 93.33333333333333\n",
      "Test Accuracy: 93.33333333333333\n",
      "\n",
      "----------\n",
      "Iteration 350\n",
      "Train Fitness (Loss+Regularization): 0.3383657247060631\n",
      "Test Fitness (Loss+Regularization): 0.35106489592703\n",
      "Train Accuracy: 93.33333333333333\n",
      "Test Accuracy: 93.33333333333333\n",
      "\n",
      "----------\n",
      "Iteration 375\n",
      "Train Fitness (Loss+Regularization): 0.3383657247060631\n",
      "Test Fitness (Loss+Regularization): 0.35106489592703\n",
      "Train Accuracy: 93.33333333333333\n",
      "Test Accuracy: 93.33333333333333\n",
      "\n",
      "----------\n",
      "Iteration 400\n",
      "Train Fitness (Loss+Regularization): 0.3383657247060631\n",
      "Test Fitness (Loss+Regularization): 0.35106489592703\n",
      "Train Accuracy: 93.33333333333333\n",
      "Test Accuracy: 93.33333333333333\n",
      "\n",
      "----------\n",
      "Iteration 425\n",
      "Train Fitness (Loss+Regularization): 0.30723891305646367\n",
      "Test Fitness (Loss+Regularization): 0.3093071982217567\n",
      "Train Accuracy: 97.5\n",
      "Test Accuracy: 96.66666666666667\n",
      "\n",
      "----------\n",
      "Iteration 450\n",
      "Train Fitness (Loss+Regularization): 0.3072386789748311\n",
      "Test Fitness (Loss+Regularization): 0.30930720163210806\n",
      "Train Accuracy: 97.5\n",
      "Test Accuracy: 96.66666666666667\n",
      "\n",
      "----------\n",
      "Iteration 475\n",
      "Train Fitness (Loss+Regularization): 0.3072386789748302\n",
      "Test Fitness (Loss+Regularization): 0.30930720163210806\n",
      "Train Accuracy: 97.5\n",
      "Test Accuracy: 96.66666666666667\n",
      "\n",
      "----------\n",
      "Iteration 500\n",
      "Train Fitness (Loss+Regularization): 0.3072386789748302\n",
      "Test Fitness (Loss+Regularization): 0.30930720163210806\n",
      "Train Accuracy: 97.5\n",
      "Test Accuracy: 96.66666666666667\n"
     ]
    }
   ],
   "source": [
    "from neural import neural_network\n",
    "from particle_swarm_optimization import PSO_optimizer\n",
    "\n",
    "nn = neural_network(n_hidden_layer=2, n_neurons_hl1=24, n_neurons_hl2=12, n_input=4, n_output=3, dropout_prob=0, regularization_factor = 5e3)\n",
    "\n",
    "nn.architecture()\n",
    "\n",
    "results = PSO_optimizer(X_train, X_test, y_train, y_test, nn, c1=2, c2=0.25, wmin=0.4, wmax=0.9, max_iter = 500, n_particles = 100, verbose=True)\n"
   ]
  },
  {
   "cell_type": "code",
   "execution_count": 12,
   "metadata": {},
   "outputs": [
    {
     "data": {
      "text/plain": [
       "<matplotlib.legend.Legend at 0x2bb9d3e4d90>"
      ]
     },
     "execution_count": 12,
     "metadata": {},
     "output_type": "execute_result"
    },
    {
     "data": {
      "image/png": "[encoded data removed]",
      "text/plain": [
       "<Figure size 1152x432 with 1 Axes>"
      ]
     },
     "metadata": {
      "needs_background": "light"
     },
     "output_type": "display_data"
    }
   ],
   "source": [
    "plt.figure(figsize=(16,6))\n",
    "plt.plot(results['train_acc'], label=\"Training Accuracy\")\n",
    "plt.plot(results['test_acc'], label=\"Test Accuracy\")\n",
    "plt.grid()\n",
    "plt.title(\"Accuracy\")\n",
    "plt.xlabel(\"Iterations\")\n",
    "plt.ylabel('Accuracy')\n",
    "plt.legend()"
   ]
  }
 ],
 "metadata": {
  "interpreter": {
   "hash": "dd29c56ba2adf52c07826bc05c245baffb15e472d30979d3bfec02223da0ee11"
  },
  "kernelspec": {
   "display_name": "Python 3.9.7 64-bit",
   "language": "python",
   "name": "python3"
  },
  "language_info": {
   "codemirror_mode": {
    "name": "ipython",
    "version": 3
   },
   "file_extension": ".py",
   "mimetype": "text/x-python",
   "name": "python",
   "nbconvert_exporter": "python",
   "pygments_lexer": "ipython3",
   "version": "3.9.7"
  },
  "orig_nbformat": 4
 },
 "nbformat": 4,
 "nbformat_minor": 2
}
