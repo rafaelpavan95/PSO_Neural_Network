{
 "cells": [
  {
   "cell_type": "markdown",
   "metadata": {},
   "source": [
    "# Particle Swarm Optimization Based FeedForward Neural Network\n",
    "\n",
    "Evolutionary Computing is an Artificial Intelligence field that focus in algorithms inspired by nature. Such algorithms are used in complex artificial intelligence and optimization problems that cannot be efficiently solved by tradicional mathematical programming methods. In this project, we will create a feedforward neural network that will use the particle swarm optimization algorithm as its optimizer. In order to demonstrate the functionality, the algorithm will be applied in a simple classification problem: Iris (https://archive.ics.uci.edu/ml/datasets/iris)\n"
   ]
  },
  {
   "cell_type": "markdown",
   "metadata": {},
   "source": [
    "## Iris Dataset\n",
    "\n",
    "This is perhaps the best known database to be found in the pattern recognition literature. Fisher's paper is a classic in the field and is referenced frequently to this day. (See Duda & Hart, for example.) The data set contains 3 classes of 50 instances each, where each class refers to a type of iris plant. One class is linearly separable from the other 2; the latter are NOT linearly separable from each other.\n",
    "\n",
    "### Attribute Information:\n",
    "\n",
    "- sepal length in cm\n",
    "- sepal width in cm\n",
    "- petal length in cm\n",
    "- petal width in cm\n",
    "- class:\n",
    "    - Iris Setosa\n",
    "    - Iris Versicolour\n",
    "    - Iris Virginica\n"
   ]
  }
 ],
 "metadata": {
  "interpreter": {
   "hash": "dd29c56ba2adf52c07826bc05c245baffb15e472d30979d3bfec02223da0ee11"
  },
  "kernelspec": {
   "display_name": "Python 3.9.7 64-bit",
   "language": "python",
   "name": "python3"
  },
  "language_info": {
   "codemirror_mode": {
    "name": "ipython",
    "version": 3
   },
   "file_extension": ".py",
   "mimetype": "text/x-python",
   "name": "python",
   "nbconvert_exporter": "python",
   "pygments_lexer": "ipython3",
   "version": "3.9.7"
  },
  "orig_nbformat": 4
 },
 "nbformat": 4,
 "nbformat_minor": 2
}
