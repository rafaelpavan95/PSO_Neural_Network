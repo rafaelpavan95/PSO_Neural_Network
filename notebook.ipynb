{
 "cells": [
  {
   "cell_type": "markdown",
   "metadata": {},
   "source": [
    "# Particle Swarm Optimization Based FeedForward Neural Network\n",
    "\n",
    "Evolutionary Computing is an Artificial Intelligence field that focus in algorithms inspired by nature. Such algorithms are used in complex artificial intelligence and optimization problems that cannot be efficiently solved by tradicional mathematical programming methods. In this project, we will create a feedforward neural network that will use the particle swarm optimization algorithm as its optimizer. In order to demonstrate the functionality, the algorithm will be applied in a simple classification problem: Iris (https://archive.ics.uci.edu/ml/datasets/iris)\n"
   ]
  },
  {
   "cell_type": "markdown",
   "metadata": {},
   "source": [
    "## Iris Dataset\n",
    "\n",
    "This is perhaps the best known database to be found in the pattern recognition literature. Fisher's paper is a classic in the field and is referenced frequently to this day. (See Duda & Hart, for example.) The data set contains 3 classes of 50 instances each, where each class refers to a type of iris plant. One class is linearly separable from the other 2; the latter are NOT linearly separable from each other.\n",
    "\n",
    "### Attribute Information:\n",
    "\n",
    "- sepal length in cm\n",
    "- sepal width in cm\n",
    "- petal length in cm\n",
    "- petal width in cm\n",
    "- class:\n",
    "    - Iris Setosa\n",
    "    - Iris Versicolour\n",
    "    - Iris Virginica\n"
   ]
  },
  {
   "cell_type": "markdown",
   "metadata": {},
   "source": [
    "## 1. Importing Library and Data"
   ]
  },
  {
   "cell_type": "code",
   "execution_count": 21,
   "metadata": {},
   "outputs": [],
   "source": [
    "import numpy as np\n",
    "import matplotlib.pyplot as plt\n",
    "from sklearn.datasets import load_iris\n",
    "\n",
    "\n",
    "data = load_iris()\n",
    "\n",
    "X = data.data\n",
    "y = data.target"
   ]
  },
  {
   "cell_type": "markdown",
   "metadata": {},
   "source": [
    "## 2. Feature Engineering\n",
    "\n",
    "To improve the Neural Network performance, let's normalize the data between 0-1, using MinMaxScaler."
   ]
  },
  {
   "cell_type": "code",
   "execution_count": 2,
   "metadata": {},
   "outputs": [],
   "source": [
    "from sklearn.preprocessing import MinMaxScaler\n",
    "from sklearn.model_selection import train_test_split\n",
    "from sklearn.metrics import classification_report\n",
    "\n",
    "X_train, X_test, y_train, y_test = train_test_split(X, y, test_size=0.2, stratify=y)\n",
    "\n",
    "scaler = MinMaxScaler()\n",
    "\n",
    "X_train = scaler.fit_transform(X_train)\n",
    "X_test = scaler.transform(X_test)"
   ]
  },
  {
   "cell_type": "markdown",
   "metadata": {},
   "source": [
    "## 3. FeedForward Neural Network and Particle Swarm Optimization\n",
    "\n",
    "The feedforward neural network developed can be found in the **neural.py** file. It consists of:\n",
    "\n",
    "- Input Layer\n",
    "- Hidden Layer 1 (Tanh Activation Function)\n",
    "- Dropout Layer (If Necessary)\n",
    "- Hidden Layer 2 (Tanh Activation Function)\n",
    "- Output Layer (Softmax Activation Function)\n",
    "- Negative Log-Likelihood Loss Function\n",
    "- Regularization (L1)\n",
    "\n",
    "\n",
    "The Particle Swarm Optimization Algorithm simulates the flocks of birds behavior in nature. Each vector is a particle (bird) and contains all the neural network weights and biases. All values are initialized randomly in a Normal Gaussian Distribution (mean = 0, [-1,1]). This particles fly around the optimization hyperspace using information of other particles and its own experience (cognitive and social components). It consists of:\n",
    "\n",
    "- Linearly Decreasing Inertia Weight (Controls the exploration and exploitation)\n",
    "- C1 (Social Component Constant)\n",
    "- C2 (Cognitive Component Constant)\n",
    "- WMAX and WMIN (Maximum and Minimum Value of Inertia Weight)\n",
    "\n",
    "All particles are evaluated according to the fitness function, that is:\n",
    "\n",
    "$Fitness = Loss + \\frac{1}{\\theta} \\frac{\\sum{|w|}}{n}$\n",
    "\n",
    "$w$ - neural newtork weights\n",
    "\n",
    "$\\theta$ - regularization strenght factor\n",
    "\n",
    "$n$ - number of weights\n",
    "\n",
    "The code can be found in the file: **particle_swarm_optimization.py**\n",
    "\n",
    "\n",
    "#### References and Further Explanations: Computational Intelligence: An Introduction - Autor: Andries P. Engelbrecht"
   ]
  },
  {
   "cell_type": "code",
   "execution_count": 3,
   "metadata": {},
   "outputs": [
    {
     "name": "stdout",
     "output_type": "stream",
     "text": [
      "FeedForward Neural Network developed by Rafael Pavan \n",
      "\n",
      "Architecture: \n",
      "\n",
      "- 2 Hidden Layers; \n",
      "\n",
      "- Hidden Layer 1: 24 neurons, activation function: tanh; \n",
      "\n",
      "- Hidden Layer 2: 12 neurons, activation function: tanh; \n",
      "\n",
      "- Output: 3 neurons, activation function: softmax; \n",
      "\n",
      "- Loss Function:  Negative Log-Likelihood Loss; \n",
      "\n",
      "- Dropout Probability: 0 \n",
      "\n",
      "- Regularization: L1, 5000.0 \n",
      "\n",
      "\n",
      "----------\n",
      "Iteration 25\n",
      "Train Fitness (Loss+Regularization): 0.4749910807601874\n",
      "Test Fitness (Loss+Regularization): 0.5751019216681033\n",
      "Train Accuracy: 86.66666666666667\n",
      "Test Accuracy: 73.33333333333333\n",
      "\n",
      "----------\n",
      "Iteration 50\n",
      "Train Fitness (Loss+Regularization): 0.39269723606057716\n",
      "Test Fitness (Loss+Regularization): 0.4176513441237081\n",
      "Train Accuracy: 90.83333333333333\n",
      "Test Accuracy: 83.33333333333334\n",
      "\n",
      "----------\n",
      "Iteration 75\n",
      "Train Fitness (Loss+Regularization): 0.3883740179409617\n",
      "Test Fitness (Loss+Regularization): 0.37580228135681676\n",
      "Train Accuracy: 94.16666666666667\n",
      "Test Accuracy: 90.0\n",
      "\n",
      "----------\n",
      "Iteration 100\n",
      "Train Fitness (Loss+Regularization): 0.3649668286778629\n",
      "Test Fitness (Loss+Regularization): 0.374494587714251\n",
      "Train Accuracy: 92.5\n",
      "Test Accuracy: 90.0\n",
      "\n",
      "----------\n",
      "Iteration 125\n",
      "Train Fitness (Loss+Regularization): 0.3649668286778629\n",
      "Test Fitness (Loss+Regularization): 0.374494587714251\n",
      "Train Accuracy: 92.5\n",
      "Test Accuracy: 90.0\n",
      "\n",
      "----------\n",
      "Iteration 150\n",
      "Train Fitness (Loss+Regularization): 0.3649668286778629\n",
      "Test Fitness (Loss+Regularization): 0.374494587714251\n",
      "Train Accuracy: 92.5\n",
      "Test Accuracy: 90.0\n",
      "\n",
      "----------\n",
      "Iteration 175\n",
      "Train Fitness (Loss+Regularization): 0.3629451255694385\n",
      "Test Fitness (Loss+Regularization): 0.4208104008357664\n",
      "Train Accuracy: 92.5\n",
      "Test Accuracy: 90.0\n",
      "\n",
      "----------\n",
      "Iteration 200\n",
      "Train Fitness (Loss+Regularization): 0.3625657931821213\n",
      "Test Fitness (Loss+Regularization): 0.40954175403077087\n",
      "Train Accuracy: 92.5\n",
      "Test Accuracy: 90.0\n",
      "\n",
      "----------\n",
      "Iteration 225\n",
      "Train Fitness (Loss+Regularization): 0.3625657931821213\n",
      "Test Fitness (Loss+Regularization): 0.40954175403077087\n",
      "Train Accuracy: 92.5\n",
      "Test Accuracy: 90.0\n",
      "\n",
      "----------\n",
      "Iteration 250\n",
      "Train Fitness (Loss+Regularization): 0.3386553953926973\n",
      "Test Fitness (Loss+Regularization): 0.3431355806140252\n",
      "Train Accuracy: 93.33333333333333\n",
      "Test Accuracy: 93.33333333333333\n",
      "\n",
      "----------\n",
      "Iteration 275\n",
      "Train Fitness (Loss+Regularization): 0.3384339625136945\n",
      "Test Fitness (Loss+Regularization): 0.35110264589357815\n",
      "Train Accuracy: 93.33333333333333\n",
      "Test Accuracy: 93.33333333333333\n",
      "\n",
      "----------\n",
      "Iteration 300\n",
      "Train Fitness (Loss+Regularization): 0.33836572652678787\n",
      "Test Fitness (Loss+Regularization): 0.3510652484362745\n",
      "Train Accuracy: 93.33333333333333\n",
      "Test Accuracy: 93.33333333333333\n",
      "\n",
      "----------\n",
      "Iteration 325\n",
      "Train Fitness (Loss+Regularization): 0.3383657247060659\n",
      "Test Fitness (Loss+Regularization): 0.35106489592755413\n",
      "Train Accuracy: 93.33333333333333\n",
      "Test Accuracy: 93.33333333333333\n",
      "\n",
      "----------\n",
      "Iteration 350\n",
      "Train Fitness (Loss+Regularization): 0.3383657247060631\n",
      "Test Fitness (Loss+Regularization): 0.35106489592703\n",
      "Train Accuracy: 93.33333333333333\n",
      "Test Accuracy: 93.33333333333333\n",
      "\n",
      "----------\n",
      "Iteration 375\n",
      "Train Fitness (Loss+Regularization): 0.3383657247060631\n",
      "Test Fitness (Loss+Regularization): 0.35106489592703\n",
      "Train Accuracy: 93.33333333333333\n",
      "Test Accuracy: 93.33333333333333\n",
      "\n",
      "----------\n",
      "Iteration 400\n",
      "Train Fitness (Loss+Regularization): 0.3383657247060631\n",
      "Test Fitness (Loss+Regularization): 0.35106489592703\n",
      "Train Accuracy: 93.33333333333333\n",
      "Test Accuracy: 93.33333333333333\n",
      "\n",
      "----------\n",
      "Iteration 425\n",
      "Train Fitness (Loss+Regularization): 0.30723891305646367\n",
      "Test Fitness (Loss+Regularization): 0.3093071982217567\n",
      "Train Accuracy: 97.5\n",
      "Test Accuracy: 96.66666666666667\n",
      "\n",
      "----------\n",
      "Iteration 450\n",
      "Train Fitness (Loss+Regularization): 0.3072386789748311\n",
      "Test Fitness (Loss+Regularization): 0.30930720163210806\n",
      "Train Accuracy: 97.5\n",
      "Test Accuracy: 96.66666666666667\n",
      "\n",
      "----------\n",
      "Iteration 475\n",
      "Train Fitness (Loss+Regularization): 0.3072386789748302\n",
      "Test Fitness (Loss+Regularization): 0.30930720163210806\n",
      "Train Accuracy: 97.5\n",
      "Test Accuracy: 96.66666666666667\n",
      "\n",
      "----------\n",
      "Iteration 500\n",
      "Train Fitness (Loss+Regularization): 0.3072386789748302\n",
      "Test Fitness (Loss+Regularization): 0.30930720163210806\n",
      "Train Accuracy: 97.5\n",
      "Test Accuracy: 96.66666666666667\n"
     ]
    }
   ],
   "source": [
    "from neural import neural_network\n",
    "from particle_swarm_optimization import PSO_optimizer\n",
    "\n",
    "nn = neural_network(n_hidden_layer=2, n_neurons_hl1=24, n_neurons_hl2=12, n_input=4, n_output=3, dropout_prob=0, regularization_factor = 5e3)\n",
    "\n",
    "nn.architecture()\n",
    "\n",
    "results = PSO_optimizer(X_train, X_test, y_train, y_test, nn, c1=2, c2=0.25, wmin=0.4, wmax=0.9, max_iter = 500, n_particles = 100, verbose=True)\n"
   ]
  },
  {
   "cell_type": "markdown",
   "metadata": {},
   "source": [
    "## 4. Results\n",
    "\n",
    "Let's see the classification results:"
   ]
  },
  {
   "cell_type": "code",
   "execution_count": 12,
   "metadata": {},
   "outputs": [
    {
     "data": {
      "text/plain": [
       "<matplotlib.legend.Legend at 0x2bb9d3e4d90>"
      ]
     },
     "execution_count": 12,
     "metadata": {},
     "output_type": "execute_result"
    },
    {
     "data": {
      "image/png": "[encoded data removed]",
      "text/plain": [
       "<Figure size 1152x432 with 1 Axes>"
      ]
     },
     "metadata": {
      "needs_background": "light"
     },
     "output_type": "display_data"
    }
   ],
   "source": [
    "plt.figure(figsize=(16,6))\n",
    "plt.plot(results['train_acc'], label=\"Training Accuracy\")\n",
    "plt.plot(results['test_acc'], label=\"Test Accuracy\")\n",
    "plt.grid()\n",
    "plt.title(\"Accuracy\")\n",
    "plt.xlabel(\"Iterations\")\n",
    "plt.ylabel('Accuracy')\n",
    "plt.legend()"
   ]
  },
  {
   "cell_type": "code",
   "execution_count": 13,
   "metadata": {},
   "outputs": [
    {
     "data": {
      "text/plain": [
       "<matplotlib.legend.Legend at 0x2bb9d97d640>"
      ]
     },
     "execution_count": 13,
     "metadata": {},
     "output_type": "execute_result"
    },
    {
     "data": {
      "image/png": "[encoded data removed]",
      "text/plain": [
       "<Figure size 1152x432 with 1 Axes>"
      ]
     },
     "metadata": {
      "needs_background": "light"
     },
     "output_type": "display_data"
    }
   ],
   "source": [
    "plt.figure(figsize=(16,6))\n",
    "plt.plot(results['train_loss'], label=\"Training Loss\")\n",
    "plt.plot(results['test_loss'], label=\"Test Loss\")\n",
    "plt.grid()\n",
    "plt.title(\"Loss\")\n",
    "plt.xlabel(\"Iterations\")\n",
    "plt.ylabel('Loss')\n",
    "plt.legend()"
   ]
  },
  {
   "cell_type": "code",
   "execution_count": 18,
   "metadata": {},
   "outputs": [
    {
     "name": "stdout",
     "output_type": "stream",
     "text": [
      "Weights Optimized: [-6.42032898e-01  2.13340458e+00  4.23422827e-01 -1.10749738e+00\n",
      " -2.29035833e+00  2.43152642e+00  3.61437031e+00  4.36382186e+00\n",
      "  1.30522147e+00  1.21727986e+00 -8.39621753e-01 -5.75200627e-01\n",
      "  1.50218454e+00  1.14303533e+00  8.95003906e+00  1.42781457e-01\n",
      " -5.28307966e+00  4.11809778e+00  4.03971111e+00 -2.99409778e-01\n",
      "  6.27873430e+00 -4.14993428e+00  5.76258147e+00 -1.08076543e+00\n",
      " -2.63306353e+00 -4.77911215e+00 -3.56966860e-02 -1.43494880e+00\n",
      " -7.39242524e-01 -2.46807561e+00 -9.48011121e-01  2.52156062e+00\n",
      " -5.50147293e-01  9.33347154e-01  9.85512001e-01 -6.14555312e+00\n",
      "  1.28247852e+00 -2.01614019e+00 -3.34619650e+00 -7.41403303e-02\n",
      " -4.05148897e+00  2.64794739e+00 -1.57637264e+00 -1.68806621e-02\n",
      "  2.24446461e+00 -2.26684571e+00 -7.84292144e-01  3.34972732e+00\n",
      "  1.32106262e+00  1.83498575e+00  8.13089910e-01  3.93221601e-01\n",
      "  5.47286143e-02  3.16720363e+00 -9.99873441e-01  1.55813756e+00\n",
      " -1.87416762e-01 -1.14344759e-01 -9.23626451e-02  4.92203324e+00\n",
      "  2.14385851e+00 -1.28970280e+00 -2.18230764e+00  6.58443975e-01\n",
      "  9.90647963e-01 -9.77604831e+00  3.34885748e+00 -3.80478001e-01\n",
      "  3.26155398e+00  3.95837778e+00  5.35482934e-01 -3.29727735e+00\n",
      "  7.54780023e-01 -6.05456197e-01  2.39765217e+00 -6.33066636e-01\n",
      " -4.89795929e+00  2.10450523e+00  1.25157722e+00 -6.17892884e+00\n",
      " -2.06529247e+00  1.09474028e+00 -9.17998763e-01  1.23597049e+00\n",
      " -1.87173955e+00  1.21224030e+00  1.38308461e+00  1.95511115e+00\n",
      " -1.04057398e+00 -1.55404587e+00 -3.87650499e+00 -1.84264875e+00\n",
      " -3.68021977e-01 -1.06465303e+00  2.62741246e+00 -3.14315529e+00\n",
      " -9.73988266e+00 -3.98061855e+00 -2.12397181e+00  3.08258396e+00\n",
      " -1.38238187e+00  9.60650090e-01 -7.46589762e-01  1.58288709e+00\n",
      "  2.93665040e-01 -9.98527771e-01 -1.07282572e+00 -2.59213340e+00\n",
      " -2.24835768e+00  3.52808017e+00 -1.76344272e-01 -1.57177709e+00\n",
      " -1.12073117e-01  1.09120717e+00  1.86719046e+00  2.00048930e+00\n",
      "  4.56822561e-01  7.49412610e-02  1.32817773e+00 -8.01786307e+00\n",
      "  4.08383051e+00  1.62923527e+00 -3.68662163e-01  5.02272767e+00\n",
      "  2.50198074e+00  1.01347159e+00 -2.25945298e-01 -3.77201793e-01\n",
      "  4.43600356e+00  3.28774457e+00  4.60193375e-01  1.12690562e+00\n",
      " -2.00386685e+00  5.38628546e+00 -1.77901825e+00 -4.85008034e+00\n",
      " -3.21697607e+00 -3.68190375e-02  6.35759161e-01 -9.95608863e-01\n",
      "  4.11263999e+00  2.33549007e+00  5.36062708e-01 -2.18632600e+00\n",
      "  2.36558577e+00 -7.37800847e-01 -6.47511779e+00 -3.02124551e+00\n",
      " -2.54075246e+00  1.96751488e-01  2.50159055e+00  8.96277328e+00\n",
      "  7.95036445e-01  1.85830983e+00  4.53164399e+00 -4.03939284e+00\n",
      " -7.39978613e+00  4.75674397e+00 -4.48080279e+00 -3.05527763e-01\n",
      "  2.49148672e-01  2.23558711e-01  3.22253860e-02 -5.42677963e+00\n",
      " -1.37514675e+00  4.94825333e-01  3.33690542e+00 -5.52538854e-01\n",
      " -5.27906104e-02 -8.30533954e+00 -2.70232954e+00 -6.84508658e-01\n",
      "  1.28576204e+01  7.04359867e-01 -5.55385835e-01 -4.15630444e-01\n",
      "  1.16074737e+00  2.41607461e+00 -5.14105801e+00 -4.34696346e-01\n",
      " -1.34810593e+00  2.17631539e+00  7.71949893e-01  2.63367936e+00\n",
      "  5.36592063e-01  1.58323036e+00  3.18527489e+00 -3.00685396e-01\n",
      "  1.92489508e+00  1.32886468e+00 -1.35790128e-01  1.52325163e+00\n",
      "  1.44975522e+00  2.61380152e+00  1.56337427e+00  2.13196153e+00\n",
      " -4.73511055e-01 -1.31349833e+01  4.68072057e-01  2.22735196e-01\n",
      "  2.29717138e+00  1.49086577e+00  1.37509163e+00 -5.10599618e+00\n",
      " -3.04614790e+00  3.93058529e+00  8.46355557e-01  1.83219115e+00\n",
      " -1.91954046e+00 -2.70738308e+00  1.17244436e+00  1.47731786e+00\n",
      " -1.55253339e+00 -2.60899139e+00 -3.33785683e+00 -2.85628520e-01\n",
      "  2.64054781e-01 -1.41872085e+00  2.70242991e+00  2.17791460e+00\n",
      "  1.50554596e+00  2.07914469e+00  2.35608102e+00  1.48167140e+00\n",
      " -1.80452231e-01  2.54033577e+00 -4.93836823e+00  1.16627778e+00\n",
      "  9.21657300e+00 -2.59142419e+00 -1.17924443e+00 -3.10448905e+00\n",
      " -1.72426257e+00  8.03232432e-01  2.66324732e+00 -3.45462351e+00\n",
      "  2.56822044e+00  1.22785649e-01  1.39212182e+00 -2.54667944e+00\n",
      "  5.40987311e+00  8.61265432e-01  2.04581644e+00  1.50617900e+00\n",
      " -1.05981506e+00  1.04637058e+00 -3.89882766e-02  6.82815117e+00\n",
      "  2.32855518e-02  5.66728982e-01 -4.41177137e+00 -7.91831876e+00\n",
      "  4.78828142e-01 -9.01428624e-01 -2.46368185e+00  2.68368630e+00\n",
      "  8.78306869e-01  3.50462686e-01 -1.74982937e+00  6.46043816e-01\n",
      "  1.54976966e+00 -5.22501410e+00  1.38757803e+00  1.52109804e+00\n",
      "  3.63105181e+00  5.52992102e-01 -2.03399165e+00 -2.82552497e+00\n",
      " -3.12966313e+00  6.36314827e+00  5.43103751e-01  2.35603697e+00\n",
      "  1.17134917e+00 -6.51067642e-01 -1.08155452e+00  6.89956194e-01\n",
      " -3.39043150e+00 -6.56030762e-01 -3.89995870e+00  9.02428859e-01\n",
      " -1.57244858e+00 -1.15820935e+00  2.36052585e+00  6.10376532e+00\n",
      " -2.49517455e-01  4.51443098e-01  9.93227552e-01  2.75164360e+00\n",
      "  4.45106307e+00 -1.88762174e+00 -1.68519641e-01  1.27247366e+00\n",
      "  3.66073013e+00 -1.47856748e+00  8.40181526e-02  3.43898112e+00\n",
      "  3.11398944e+00  7.86791324e-01  2.42758092e+00  6.46697043e-01\n",
      "  1.06152588e+01  1.30654888e+00 -3.04382639e+00 -2.49670548e+00\n",
      " -1.12943244e+00  4.39586019e-01  5.60938945e-01  1.06220654e+00\n",
      " -4.63389081e-02 -2.77875540e-01  2.84156984e+00 -1.03708384e+00\n",
      "  1.40989902e+00 -1.68415464e+00 -4.18615619e+00 -2.28577647e+00\n",
      "  1.98684494e+00  4.10922507e+00  1.87860112e+00 -2.01217910e+00\n",
      "  1.31726181e+00  3.54871372e+00  1.82613409e+00  2.62964322e-01\n",
      "  8.36637026e-02 -4.88875344e+00 -9.90900958e-01 -1.71465838e+00\n",
      "  3.08446978e-01 -3.39321901e+00  8.70590762e-01 -1.61500936e+01\n",
      "  7.52660363e-01  1.61374259e-01  4.10398663e-01  5.12987809e-02\n",
      "  9.91873943e-01  4.81050735e+00  8.59675077e-01  1.63170791e+00\n",
      " -3.38917510e+00 -3.57443769e-01 -1.22741188e+00  4.70655073e+00\n",
      " -8.17930912e+00 -8.93771569e-01 -4.63656180e+00  1.54200176e+00\n",
      " -1.35065104e+00 -3.26475401e+00  1.19182672e-01  1.52251770e+00\n",
      " -2.36652235e+00 -5.98181864e+00  1.80179264e+00  3.13975050e+00\n",
      "  4.26830504e-01  2.23830629e+00 -1.17193479e-01  7.15682224e-01\n",
      "  2.49502021e+00 -4.36692342e+00 -5.00317593e+00  5.28198704e-01\n",
      " -2.53138457e+00  1.37464082e+00 -1.23819435e-01  2.58837325e-01\n",
      " -8.09017635e-01 -5.71852289e+00  1.05977458e-01  3.53532249e+00\n",
      " -1.32272179e+00  5.44438648e+00 -9.29565926e-01  2.89063814e+00\n",
      "  3.55042591e+00 -1.02996427e+00 -7.56861503e-01 -3.16938755e-01\n",
      "  8.81979231e+00 -3.21327249e+00  1.24607461e+00 -1.80370694e+00\n",
      "  3.38610684e+00 -9.06810656e-01  8.00398888e-01  5.57309859e-01\n",
      " -2.73293792e+00 -2.47622728e-01 -3.40470262e+00 -4.27782216e+00\n",
      "  1.18013459e+00 -1.99720267e+00 -3.03555167e+00  2.17907357e+00\n",
      "  4.37168005e-01 -2.87438696e-02 -2.87206266e+00  1.78669472e+01\n",
      "  1.01289088e-01 -5.45393823e+00  3.17481788e-01  2.20898377e+00\n",
      "  8.28285490e-02 -3.15220535e+00  6.82387269e-01  8.85170421e+00\n",
      " -1.92400387e-01  1.43494259e+00 -3.05425691e+00  6.53145435e-02\n",
      "  3.06297061e+00 -5.99626106e+00 -3.65225923e+00  3.08667675e+00\n",
      "  8.25392136e-01  2.75818266e+00 -6.04058802e+00 -4.56976026e+00\n",
      "  2.77853259e+00 -1.53200022e+00 -1.00523852e+00 -3.96461788e+00\n",
      " -6.84319482e-01  1.03261273e+00  2.18862187e+00  2.89489082e+00\n",
      " -1.78747330e+01 -2.78127829e+00  2.75025609e+00  1.39830429e+00\n",
      "  1.36075015e+00 -9.23173510e-01  8.88853049e+00 -5.84187949e-01\n",
      " -4.51663836e+00  2.75433991e+00  3.55632145e-01  3.03634442e+00\n",
      "  3.42730235e+00 -3.98203601e+00  2.97293987e+00  9.76607123e-01\n",
      " -4.29645326e+00  3.22842019e+00 -1.87710645e-01 -8.55873450e-01\n",
      "  1.01736028e-01  1.08589362e+00 -4.09671297e-01 -1.93921818e+00\n",
      "  3.42645204e+00 -1.35797750e+00  1.04665897e+00 -6.76730022e-01\n",
      " -4.37204191e+00 -3.92364785e+00 -1.71309725e+00]\n"
     ]
    }
   ],
   "source": [
    "final_weights = results[\"list_gbest\"][-1]\n",
    "print(f\"Weights Optimized: {final_weights}\")"
   ]
  },
  {
   "cell_type": "code",
   "execution_count": 22,
   "metadata": {},
   "outputs": [],
   "source": [
    "probs_train = nn.predictions(final_weights, X_train)\n",
    "probs_test = nn.predictions(final_weights, X_test)\n",
    "\n",
    "y_pred_train = np.argmax(probs_train,axis=1)\n",
    "y_pred_test = np.argmax(probs_test,axis=1)"
   ]
  },
  {
   "cell_type": "code",
   "execution_count": 23,
   "metadata": {},
   "outputs": [
    {
     "name": "stdout",
     "output_type": "stream",
     "text": [
      "Training Results: \n",
      "              precision    recall  f1-score   support\n",
      "\n",
      "           0       1.00      1.00      1.00        40\n",
      "           1       0.97      0.95      0.96        40\n",
      "           2       0.95      0.97      0.96        40\n",
      "\n",
      "    accuracy                           0.97       120\n",
      "   macro avg       0.98      0.97      0.97       120\n",
      "weighted avg       0.98      0.97      0.97       120\n",
      "\n"
     ]
    }
   ],
   "source": [
    "print(\"Training Results: \")\n",
    "\n",
    "print(classification_report(y_train, y_pred_train))"
   ]
  },
  {
   "cell_type": "code",
   "execution_count": 24,
   "metadata": {},
   "outputs": [
    {
     "name": "stdout",
     "output_type": "stream",
     "text": [
      "Test Results: \n",
      "              precision    recall  f1-score   support\n",
      "\n",
      "           0       1.00      1.00      1.00        10\n",
      "           1       1.00      0.90      0.95        10\n",
      "           2       0.91      1.00      0.95        10\n",
      "\n",
      "    accuracy                           0.97        30\n",
      "   macro avg       0.97      0.97      0.97        30\n",
      "weighted avg       0.97      0.97      0.97        30\n",
      "\n"
     ]
    }
   ],
   "source": [
    "print(\"Test Results: \")\n",
    "\n",
    "print(classification_report(y_test, y_pred_test))"
   ]
  },
  {
   "cell_type": "markdown",
   "metadata": {},
   "source": [
    "As we can see, the neural network developed accomplished accuracy of 97% in training and test. The development of algorithms using Evolutionary Computing is a promissing field of research. Specifically in Machine Learning, those algorithms can be applied for:\n",
    "\n",
    "- Optimization of Neural Networks\n",
    "- Hyperparameter Tuning\n",
    "- Feature Selection\n",
    "- Others...\n",
    "\n",
    "## Advantages of Evolutionary Computing over Mathematical Programming:\n",
    "\n",
    "- More simple algorithms\n",
    "- Great for solutions hyperspace exploration\n",
    "- Less sensitive to local minima\n",
    "\n",
    "## Disvantages:\n",
    "\n",
    "- Does not guarantee a solution (random and stochastic)\n",
    "- Suffers from dimensionality curse"
   ]
  }
 ],
 "metadata": {
  "interpreter": {
   "hash": "dd29c56ba2adf52c07826bc05c245baffb15e472d30979d3bfec02223da0ee11"
  },
  "kernelspec": {
   "display_name": "Python 3.9.7 64-bit",
   "language": "python",
   "name": "python3"
  },
  "language_info": {
   "codemirror_mode": {
    "name": "ipython",
    "version": 3
   },
   "file_extension": ".py",
   "mimetype": "text/x-python",
   "name": "python",
   "nbconvert_exporter": "python",
   "pygments_lexer": "ipython3",
   "version": "3.9.7"
  },
  "orig_nbformat": 4
 },
 "nbformat": 4,
 "nbformat_minor": 2
}
