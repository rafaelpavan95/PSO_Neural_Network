{
 "cells": [
  {
   "cell_type": "markdown",
   "metadata": {},
   "source": [
    "# Particle Swarm Optimization Based FeedForward Neural Network\n",
    "\n",
    "Evolutionary Computing is an Artificial Intelligence field that focus in algorithms inspired by nature. Such algorithms are used in complex artificial intelligence and optimization problems that cannot be efficiently solved by tradicional mathematical programming methods. In this project, we will create a feedforward neural network that will use the particle swarm optimization algorithm as its optimizer. In order to demonstrate the functionality, the algorithm will be applied in a simple classification problem: Iris (https://archive.ics.uci.edu/ml/datasets/iris)\n"
   ]
  },
  {
   "cell_type": "markdown",
   "metadata": {},
   "source": [
    "## Iris Dataset\n",
    "\n",
    "This is perhaps the best known database to be found in the pattern recognition literature. Fisher's paper is a classic in the field and is referenced frequently to this day. (See Duda & Hart, for example.) The data set contains 3 classes of 50 instances each, where each class refers to a type of iris plant. One class is linearly separable from the other 2; the latter are NOT linearly separable from each other.\n",
    "\n",
    "### Attribute Information:\n",
    "\n",
    "- sepal length in cm\n",
    "- sepal width in cm\n",
    "- petal length in cm\n",
    "- petal width in cm\n",
    "- class:\n",
    "    - Iris Setosa\n",
    "    - Iris Versicolour\n",
    "    - Iris Virginica\n"
   ]
  },
  {
   "cell_type": "markdown",
   "metadata": {},
   "source": [
    "## 1. Importing Library and Data"
   ]
  },
  {
   "cell_type": "code",
   "execution_count": 2,
   "metadata": {},
   "outputs": [],
   "source": [
    "import numpy as numpy\n",
    "import matplotlib.pyplot as plt\n",
    "from sklearn.datasets import load_iris\n",
    "\n",
    "\n",
    "data = load_iris()\n",
    "\n",
    "X = data.data\n",
    "y = data.target"
   ]
  },
  {
   "cell_type": "markdown",
   "metadata": {},
   "source": [
    "## 2. Feature Engineering\n",
    "\n",
    "To improve the Neural Network performance, let's normalize the data between 0-1, using MinMaxScaler."
   ]
  },
  {
   "cell_type": "code",
   "execution_count": 4,
   "metadata": {},
   "outputs": [],
   "source": [
    "from sklearn.preprocessing import MinMaxScaler\n",
    "from sklearn.model_selection import train_test_split\n",
    "from sklearn.metrics import classification_report\n",
    "\n",
    "X_train, X_test, y_train, y_test = train_test_split(X, y, test_size=0.2, stratify=y)\n",
    "\n",
    "scaler = MinMaxScaler()\n",
    "\n",
    "X_train = scaler.fit_transform(X_train)\n",
    "X_test = scaler.transform(X_test)"
   ]
  },
  {
   "cell_type": "markdown",
   "metadata": {},
   "source": [
    "## 3. FeedForward Neural Network and Particle Swarm Optimization\n",
    "\n",
    "The feedforward neural network developed can be found in the **neural.py** file. It consists of:\n",
    "\n",
    "- Input Layer\n",
    "- Hidden Layer 1 (Tanh Activation Function)\n",
    "- Dropout Layer (If Necessary)\n",
    "- Hidden Layer 2 (Tanh Activation Function)\n",
    "- Output Layer (Softmax Activation Function)\n",
    "- Negative Log-Likelihood Loss Function\n",
    "- Regularization (L1)\n",
    "\n",
    "\n",
    "The Particle Swarm Optimization Algorithm simulates the flocks of birds behavior in nature. Each vector is a particle (bird) and contains all the neural network weights and biases. All values are initialized randomly in a Normal Gaussian Distribution (mean = 0, [-1,1]). This particles fly around the optimization hyperspace using information of other particles and its own experience (cognitive and social components). It consists of:\n",
    "\n",
    "- Linearly Decreasing Inertia Weight (Controls the exploration and exploitation)\n",
    "- C1 (Social Component Constant)\n",
    "- C2 (Cognitive Component Constant)\n",
    "- WMAX and WMIN (Maximum and Minimum Value of Inertia Weight)\n",
    "\n",
    "All particles are evaluated according to the fitness function, that is:\n",
    "\n",
    "$Fitness = Loss + \\frac{1}{\\theta} \\frac{\\sum{|w|}}{n}$\n",
    "\n",
    "$w$ - neural newtork weights\n",
    "\n",
    "$\\theta$ - regularization strenght factor\n",
    "\n",
    "$n$ - number of weights\n",
    "\n",
    "The code can be found in the file: **particle_swarm_optimization.py**\n"
   ]
  },
  {
   "cell_type": "code",
   "execution_count": null,
   "metadata": {},
   "outputs": [],
   "source": [
    "from neural import neural_network\n",
    "from particle_swarm_optimization import PSO_optimizer\n",
    "\n",
    "nn = neural_network()\n",
    "\n"
   ]
  }
 ],
 "metadata": {
  "interpreter": {
   "hash": "dd29c56ba2adf52c07826bc05c245baffb15e472d30979d3bfec02223da0ee11"
  },
  "kernelspec": {
   "display_name": "Python 3.9.7 64-bit",
   "language": "python",
   "name": "python3"
  },
  "language_info": {
   "codemirror_mode": {
    "name": "ipython",
    "version": 3
   },
   "file_extension": ".py",
   "mimetype": "text/x-python",
   "name": "python",
   "nbconvert_exporter": "python",
   "pygments_lexer": "ipython3",
   "version": "3.9.7"
  },
  "orig_nbformat": 4
 },
 "nbformat": 4,
 "nbformat_minor": 2
}
